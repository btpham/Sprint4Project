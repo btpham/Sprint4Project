{
 "cells": [
  {
   "cell_type": "code",
   "execution_count": 1,
   "id": "0707424f",
   "metadata": {},
   "outputs": [],
   "source": [
    "import pandas as pd\n",
    "import streamlit as st\n",
    "import plotly.express as px"
   ]
  },
  {
   "cell_type": "markdown",
   "id": "b3da31cc",
   "metadata": {},
   "source": [
    "## Project requirements\n",
    "\n",
    "1. project structure\n",
    "    - README.md\n",
    "    - app.py\n",
    "    - <name_of_your_dataset>.csv\n",
    "    - notebooks\n",
    "         - EDA.ipynb\n",
    "    - .streamlit\n",
    "    - config.toml \n",
    "\n",
    "2. web accessibility through the browser\n",
    "    - use Streamlit and Render\n",
    "    \n",
    "3. contains at least one of each of the following:\n",
    "    - at least one header with text (st.header)\n",
    "    - at least one histogram\n",
    "    - at least one scatterplot"
   ]
  },
  {
   "cell_type": "code",
   "execution_count": 2,
   "id": "f74f194a",
   "metadata": {},
   "outputs": [],
   "source": [
    "data =  pd.read_csv('vehicles_us.csv')"
   ]
  },
  {
   "cell_type": "code",
   "execution_count": 3,
   "id": "00af98a7",
   "metadata": {},
   "outputs": [],
   "source": [
    "# convert model_year, cylinders, odometer, and is_4wd from floating to integers\n",
    "\n",
    "data['cylinders'] = data['cylinders'].fillna(0).astype(int)\n",
    "data['odometer'] = data['odometer'].fillna(0).astype(int)\n",
    "data['is_4wd'] = data['is_4wd'].fillna(0).astype(int)\n",
    "\n",
    "\n",
    "# convert date_posted to date_time\n",
    "\n",
    "data['date_posted'] = pd.to_datetime(data['date_posted'], format = '%Y-%m-%d')"
   ]
  },
  {
   "cell_type": "code",
   "execution_count": 4,
   "id": "10fb3a5c",
   "metadata": {},
   "outputs": [],
   "source": [
    "# creating title for page\n",
    "\n",
    "st.header(\"Pricing Analysis\")"
   ]
  },
  {
   "cell_type": "code",
   "execution_count": 5,
   "id": "4ae64e5d",
   "metadata": {},
   "outputs": [
    {
     "name": "stderr",
     "output_type": "stream",
     "text": [
      "2022-11-30 09:26:52.913 \n",
      "  \u001b[33m\u001b[1mWarning:\u001b[0m to view this Streamlit app on a browser, run it with the following\n",
      "  command:\n",
      "\n",
      "    streamlit run C:\\Users\\teres\\anaconda3\\lib\\site-packages\\ipykernel_launcher.py [ARGUMENTS]\n"
     ]
    },
    {
     "data": {
      "text/plain": [
       "DeltaGenerator(_root_container=0, _provided_cursor=None, _parent=None, _block_type=None, _form_data=None)"
      ]
     },
     "execution_count": 5,
     "metadata": {},
     "output_type": "execute_result"
    }
   ],
   "source": [
    "# create options for histogram elements by creating selectbox\n",
    "list_for_hist = ['is_4wd','model','condition']\n",
    "choice_for_hist = st.selectbox('Choose Options', list_for_hist)\n",
    "\n",
    "# create histogram using plotly-express\n",
    "fig1 = px.histogram(data, x = 'price', color = choice_for_hist)\n",
    "fig1.update_layout(\n",
    "title = '<b>Price Analysis -- {}</b>'.format(choice_for_hist))\n",
    "\n",
    "# embedding into streamlit\n",
    "st.plotly_chart(fig1)"
   ]
  },
  {
   "cell_type": "code",
   "execution_count": 7,
   "id": "9d02506f",
   "metadata": {},
   "outputs": [
    {
     "data": {
      "text/plain": [
       "DeltaGenerator(_root_container=0, _provided_cursor=None, _parent=None, _block_type=None, _form_data=None)"
      ]
     },
     "execution_count": 7,
     "metadata": {},
     "output_type": "execute_result"
    }
   ],
   "source": [
    "# create distribution for scatterplot\n",
    "list_for_scatter = ['model', 'condition', 'odometer']\n",
    "choice_for_scatter = st.selectbox('Choose Factors: ',list_for_scatter)\n",
    "\n",
    "# create scatterplot using plotly-express\n",
    "fig2 = px.scatter(data,x = choice_for_scatter, y = 'price')\n",
    "fig2.update_layout(\n",
    "title = '<b>Price based on {}</b>'.format(choice_for_scatter))\n",
    "st.plotly_chart(fig2)"
   ]
  },
  {
   "cell_type": "code",
   "execution_count": null,
   "id": "c2c089ce",
   "metadata": {},
   "outputs": [],
   "source": []
  }
 ],
 "metadata": {
  "kernelspec": {
   "display_name": "Python 3 (ipykernel)",
   "language": "python",
   "name": "python3"
  },
  "language_info": {
   "codemirror_mode": {
    "name": "ipython",
    "version": 3
   },
   "file_extension": ".py",
   "mimetype": "text/x-python",
   "name": "python",
   "nbconvert_exporter": "python",
   "pygments_lexer": "ipython3",
   "version": "3.9.12"
  }
 },
 "nbformat": 4,
 "nbformat_minor": 5
}
