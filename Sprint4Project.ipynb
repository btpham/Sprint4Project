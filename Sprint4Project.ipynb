{
 "cells": [
  {
   "cell_type": "code",
   "execution_count": 1,
   "id": "0707424f",
   "metadata": {},
   "outputs": [],
   "source": [
    "import pandas as pd\n",
    "import streamlit as st\n",
    "import plotly.express as px"
   ]
  },
  {
   "cell_type": "markdown",
   "id": "b3da31cc",
   "metadata": {},
   "source": [
    "## Project requirements\n",
    "\n",
    "1. project structure\n",
    "    - README.md\n",
    "    - app.py\n",
    "    - <name_of_your_dataset>.csv\n",
    "    - notebooks\n",
    "         - EDA.ipynb\n",
    "    - .streamlit\n",
    "    - config.toml \n",
    "\n",
    "2. web accessibility through the browser\n",
    "    - use Streamlit and Render\n",
    "    \n",
    "3. contains at least one of each of the following:\n",
    "    - at least one header with text (st.header)\n",
    "    - at least one histogram\n",
    "    - at least one scatterplot"
   ]
  },
  {
   "cell_type": "code",
   "execution_count": 2,
   "id": "f74f194a",
   "metadata": {},
   "outputs": [
    {
     "name": "stdout",
     "output_type": "stream",
     "text": [
      "<class 'pandas.core.frame.DataFrame'>\n",
      "RangeIndex: 51525 entries, 0 to 51524\n",
      "Data columns (total 13 columns):\n",
      " #   Column        Non-Null Count  Dtype  \n",
      "---  ------        --------------  -----  \n",
      " 0   price         51525 non-null  int64  \n",
      " 1   model_year    47906 non-null  float64\n",
      " 2   model         51525 non-null  object \n",
      " 3   condition     51525 non-null  object \n",
      " 4   cylinders     46265 non-null  float64\n",
      " 5   fuel          51525 non-null  object \n",
      " 6   odometer      43633 non-null  float64\n",
      " 7   transmission  51525 non-null  object \n",
      " 8   type          51525 non-null  object \n",
      " 9   paint_color   42258 non-null  object \n",
      " 10  is_4wd        25572 non-null  float64\n",
      " 11  date_posted   51525 non-null  object \n",
      " 12  days_listed   51525 non-null  int64  \n",
      "dtypes: float64(4), int64(2), object(7)\n",
      "memory usage: 5.1+ MB\n"
     ]
    }
   ],
   "source": [
    "data =  pd.read_csv('vehicles_us.csv')\n",
    "data.info()\n"
   ]
  },
  {
   "cell_type": "markdown",
   "id": "8020d033",
   "metadata": {},
   "source": [
    "## Data Cleanup - missing values, duplicates, change type\n",
    "1. Convert missing values for cylinders to the median of all non-missing cylinder values\n",
    "2. Convert missing values for odometer to the mean of all non-missing odometer values\n",
    "3. Convert missing 'is_4wd' (either 0 - no, or 1 - yes) to median non-missing is_4wd values\n",
    "4. Convert missing paint_color to 'unknown' string"
   ]
  },
  {
   "cell_type": "markdown",
   "id": "12fa7407",
   "metadata": {},
   "source": [
    "# Having some issues with converting missing values in 'is_4wd' to boolean - see errors below"
   ]
  },
  {
   "cell_type": "code",
   "execution_count": 3,
   "id": "00af98a7",
   "metadata": {},
   "outputs": [
    {
     "ename": "AttributeError",
     "evalue": "'Series' object has no attribute 'a'",
     "output_type": "error",
     "traceback": [
      "\u001b[1;31m---------------------------------------------------------------------------\u001b[0m",
      "\u001b[1;31mAttributeError\u001b[0m                            Traceback (most recent call last)",
      "Input \u001b[1;32mIn [3]\u001b[0m, in \u001b[0;36m<cell line: 5>\u001b[1;34m()\u001b[0m\n\u001b[0;32m      3\u001b[0m data[\u001b[38;5;124m'\u001b[39m\u001b[38;5;124mcylinders\u001b[39m\u001b[38;5;124m'\u001b[39m] \u001b[38;5;241m=\u001b[39m data[\u001b[38;5;124m'\u001b[39m\u001b[38;5;124mcylinders\u001b[39m\u001b[38;5;124m'\u001b[39m]\u001b[38;5;241m.\u001b[39mfillna(data[\u001b[38;5;124m'\u001b[39m\u001b[38;5;124mcylinders\u001b[39m\u001b[38;5;124m'\u001b[39m]\u001b[38;5;241m.\u001b[39mmedian())\n\u001b[0;32m      4\u001b[0m data[\u001b[38;5;124m'\u001b[39m\u001b[38;5;124modometer\u001b[39m\u001b[38;5;124m'\u001b[39m] \u001b[38;5;241m=\u001b[39m data[\u001b[38;5;124m'\u001b[39m\u001b[38;5;124modometer\u001b[39m\u001b[38;5;124m'\u001b[39m]\u001b[38;5;241m.\u001b[39mfillna(data[\u001b[38;5;124m'\u001b[39m\u001b[38;5;124modometer\u001b[39m\u001b[38;5;124m'\u001b[39m]\u001b[38;5;241m.\u001b[39mmean())\n\u001b[1;32m----> 5\u001b[0m data[\u001b[38;5;124m'\u001b[39m\u001b[38;5;124mis_4wd\u001b[39m\u001b[38;5;124m'\u001b[39m] \u001b[38;5;241m=\u001b[39m data[\u001b[38;5;124m'\u001b[39m\u001b[38;5;124mis_4wd\u001b[39m\u001b[38;5;124m'\u001b[39m]\u001b[38;5;241m.\u001b[39mfillna(\u001b[43mdata\u001b[49m\u001b[43m[\u001b[49m\u001b[38;5;124;43m'\u001b[39;49m\u001b[38;5;124;43mis_4wd\u001b[39;49m\u001b[38;5;124;43m'\u001b[39;49m\u001b[43m]\u001b[49m\u001b[38;5;241;43m.\u001b[39;49m\u001b[43ma\u001b[49m\u001b[38;5;241m.\u001b[39mbool())\n\u001b[0;32m      6\u001b[0m data[\u001b[38;5;124m'\u001b[39m\u001b[38;5;124mmodel_year\u001b[39m\u001b[38;5;124m'\u001b[39m] \u001b[38;5;241m=\u001b[39m data[\u001b[38;5;124m'\u001b[39m\u001b[38;5;124mmodel_year\u001b[39m\u001b[38;5;124m'\u001b[39m]\u001b[38;5;241m.\u001b[39mfillna(data[\u001b[38;5;124m'\u001b[39m\u001b[38;5;124mmodel_year\u001b[39m\u001b[38;5;124m'\u001b[39m]\u001b[38;5;241m.\u001b[39mmedian())\n\u001b[0;32m      7\u001b[0m data[\u001b[38;5;124m'\u001b[39m\u001b[38;5;124mpaint_color\u001b[39m\u001b[38;5;124m'\u001b[39m] \u001b[38;5;241m=\u001b[39m data[\u001b[38;5;124m'\u001b[39m\u001b[38;5;124mpaint_color\u001b[39m\u001b[38;5;124m'\u001b[39m]\u001b[38;5;241m.\u001b[39mfillna(\u001b[38;5;124m'\u001b[39m\u001b[38;5;124munknown\u001b[39m\u001b[38;5;124m'\u001b[39m)\n",
      "File \u001b[1;32m~\\anaconda3\\lib\\site-packages\\pandas\\core\\generic.py:5575\u001b[0m, in \u001b[0;36mNDFrame.__getattr__\u001b[1;34m(self, name)\u001b[0m\n\u001b[0;32m   5568\u001b[0m \u001b[38;5;28;01mif\u001b[39;00m (\n\u001b[0;32m   5569\u001b[0m     name \u001b[38;5;129;01mnot\u001b[39;00m \u001b[38;5;129;01min\u001b[39;00m \u001b[38;5;28mself\u001b[39m\u001b[38;5;241m.\u001b[39m_internal_names_set\n\u001b[0;32m   5570\u001b[0m     \u001b[38;5;129;01mand\u001b[39;00m name \u001b[38;5;129;01mnot\u001b[39;00m \u001b[38;5;129;01min\u001b[39;00m \u001b[38;5;28mself\u001b[39m\u001b[38;5;241m.\u001b[39m_metadata\n\u001b[0;32m   5571\u001b[0m     \u001b[38;5;129;01mand\u001b[39;00m name \u001b[38;5;129;01mnot\u001b[39;00m \u001b[38;5;129;01min\u001b[39;00m \u001b[38;5;28mself\u001b[39m\u001b[38;5;241m.\u001b[39m_accessors\n\u001b[0;32m   5572\u001b[0m     \u001b[38;5;129;01mand\u001b[39;00m \u001b[38;5;28mself\u001b[39m\u001b[38;5;241m.\u001b[39m_info_axis\u001b[38;5;241m.\u001b[39m_can_hold_identifiers_and_holds_name(name)\n\u001b[0;32m   5573\u001b[0m ):\n\u001b[0;32m   5574\u001b[0m     \u001b[38;5;28;01mreturn\u001b[39;00m \u001b[38;5;28mself\u001b[39m[name]\n\u001b[1;32m-> 5575\u001b[0m \u001b[38;5;28;01mreturn\u001b[39;00m \u001b[38;5;28;43mobject\u001b[39;49m\u001b[38;5;241;43m.\u001b[39;49m\u001b[38;5;21;43m__getattribute__\u001b[39;49m\u001b[43m(\u001b[49m\u001b[38;5;28;43mself\u001b[39;49m\u001b[43m,\u001b[49m\u001b[43m \u001b[49m\u001b[43mname\u001b[49m\u001b[43m)\u001b[49m\n",
      "\u001b[1;31mAttributeError\u001b[0m: 'Series' object has no attribute 'a'"
     ]
    }
   ],
   "source": [
    "# Missing Values: convert model_year, cylinders, odometer, and is_4wd to more suitable values\n",
    "\n",
    "data['cylinders'] = data['cylinders'].fillna(data['cylinders'].median())\n",
    "data['odometer'] = data['odometer'].fillna(data['odometer'].mean())\n",
    "data['is_4wd'] = data['is_4wd'].fillna(data['is_4wd'].a.bool())\n",
    "data['model_year'] = data['model_year'].fillna(data['model_year'].median())\n",
    "data['paint_color'] = data['paint_color'].fillna('unknown')\n"
   ]
  },
  {
   "cell_type": "markdown",
   "id": "d14d7687",
   "metadata": {},
   "source": [
    "<b> There was a reviewer comment to adjust model_year, but I don't really use it in my graphs, so I decided not to modify it. </b>"
   ]
  },
  {
   "cell_type": "code",
   "execution_count": null,
   "id": "b635c8cc",
   "metadata": {},
   "outputs": [],
   "source": [
    "# Format Change: convert date_posted to date_time\n",
    "data['date_posted'] = pd.to_datetime(data['date_posted'], format = '%Y-%m-%d')\n"
   ]
  },
  {
   "cell_type": "code",
   "execution_count": null,
   "id": "a834bcb3",
   "metadata": {},
   "outputs": [],
   "source": [
    "# Remove Duplicates:\n",
    "data = data.drop_duplicates(subset = None, keep = 'first')"
   ]
  },
  {
   "cell_type": "code",
   "execution_count": null,
   "id": "dc9e7698",
   "metadata": {},
   "outputs": [],
   "source": [
    "data.info()"
   ]
  },
  {
   "cell_type": "code",
   "execution_count": null,
   "id": "10fb3a5c",
   "metadata": {},
   "outputs": [],
   "source": [
    "# creating title for page\n",
    "\n",
    "st.header(\"Pricing Analysis\")"
   ]
  },
  {
   "cell_type": "code",
   "execution_count": null,
   "id": "4ae64e5d",
   "metadata": {},
   "outputs": [],
   "source": [
    "# create options for histogram elements by creating selectbox\n",
    "list_for_hist = ['is_4wd','model','condition']\n",
    "choice_for_hist = st.selectbox('Choose Options', list_for_hist)\n",
    "\n",
    "# create histogram using plotly-express\n",
    "fig1 = px.histogram(data, x =\"price\", color = choice_for_hist)\n",
    "fig1.update_layout(\n",
    "title = '<b>Price Analysis -- {}</b>'.format(choice_for_hist))\n",
    "\n",
    "# embedding into streamlit\n",
    "st.plotly_chart(fig1)"
   ]
  },
  {
   "cell_type": "code",
   "execution_count": null,
   "id": "9d02506f",
   "metadata": {},
   "outputs": [],
   "source": [
    "# create distribution for scatterplot\n",
    "list_for_scatter = ['model', 'condition', 'odometer']\n",
    "choice_for_scatter = st.selectbox('Choose Factors: ',list_for_scatter)\n",
    "\n",
    "# create scatterplot using plotly-express\n",
    "fig2 = px.scatter(data,x = choice_for_scatter, y = 'price')\n",
    "fig2.update_layout(\n",
    "title = '<b>Price based on {}</b>'.format(choice_for_scatter))\n",
    "st.plotly_chart(fig2)"
   ]
  },
  {
   "cell_type": "code",
   "execution_count": null,
   "id": "c2c089ce",
   "metadata": {},
   "outputs": [],
   "source": []
  },
  {
   "cell_type": "code",
   "execution_count": null,
   "id": "55b73633",
   "metadata": {},
   "outputs": [],
   "source": []
  }
 ],
 "metadata": {
  "kernelspec": {
   "display_name": "Python 3 (ipykernel)",
   "language": "python",
   "name": "python3"
  },
  "language_info": {
   "codemirror_mode": {
    "name": "ipython",
    "version": 3
   },
   "file_extension": ".py",
   "mimetype": "text/x-python",
   "name": "python",
   "nbconvert_exporter": "python",
   "pygments_lexer": "ipython3",
   "version": "3.9.12"
  }
 },
 "nbformat": 4,
 "nbformat_minor": 5
}
