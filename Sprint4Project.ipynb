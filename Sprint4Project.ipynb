{
 "cells": [
  {
   "cell_type": "code",
   "execution_count": 1,
   "id": "0707424f",
   "metadata": {},
   "outputs": [],
   "source": [
    "import pandas as pd\n",
    "import streamlit as st\n",
    "import plotly.express as px"
   ]
  },
  {
   "cell_type": "markdown",
   "id": "b3da31cc",
   "metadata": {},
   "source": [
    "## Project requirements\n",
    "\n",
    "1. project structure\n",
    "    - README.md\n",
    "    - app.py\n",
    "    - <name_of_your_dataset>.csv\n",
    "    - notebooks\n",
    "         - EDA.ipynb\n",
    "    - .streamlit\n",
    "    - config.toml \n",
    "\n",
    "2. web accessibility through the browser\n",
    "    - use Streamlit and Render\n",
    "    \n",
    "3. contains at least one of each of the following:\n",
    "    - at least one header with text (st.header)\n",
    "    - at least one histogram\n",
    "    - at least one scatterplot"
   ]
  },
  {
   "cell_type": "code",
   "execution_count": 2,
   "id": "f74f194a",
   "metadata": {},
   "outputs": [
    {
     "name": "stdout",
     "output_type": "stream",
     "text": [
      "<class 'pandas.core.frame.DataFrame'>\n",
      "RangeIndex: 51525 entries, 0 to 51524\n",
      "Data columns (total 13 columns):\n",
      " #   Column        Non-Null Count  Dtype  \n",
      "---  ------        --------------  -----  \n",
      " 0   price         51525 non-null  int64  \n",
      " 1   model_year    47906 non-null  float64\n",
      " 2   model         51525 non-null  object \n",
      " 3   condition     51525 non-null  object \n",
      " 4   cylinders     46265 non-null  float64\n",
      " 5   fuel          51525 non-null  object \n",
      " 6   odometer      43633 non-null  float64\n",
      " 7   transmission  51525 non-null  object \n",
      " 8   type          51525 non-null  object \n",
      " 9   paint_color   42258 non-null  object \n",
      " 10  is_4wd        25572 non-null  float64\n",
      " 11  date_posted   51525 non-null  object \n",
      " 12  days_listed   51525 non-null  int64  \n",
      "dtypes: float64(4), int64(2), object(7)\n",
      "memory usage: 5.1+ MB\n"
     ]
    }
   ],
   "source": [
    "data =  pd.read_csv('vehicles_us.csv')\n",
    "data.info()\n"
   ]
  },
  {
   "cell_type": "markdown",
   "id": "8020d033",
   "metadata": {},
   "source": [
    "## Data Cleanup - missing values, duplicates, change type\n",
    "1. Convert missing values for cylinders to the median of all non-missing cylinder values\n",
    "2. Convert missing values for odometer to the mean of all non-missing odometer values\n",
    "3. Convert missing 'is_4wd' (either 0 - no, or 1 - yes) to median non-missing is_4wd values\n",
    "4. Convert missing paint_color to 'unknown' string"
   ]
  },
  {
   "cell_type": "code",
   "execution_count": 3,
   "id": "29ab5667",
   "metadata": {},
   "outputs": [
    {
     "name": "stdout",
     "output_type": "stream",
     "text": [
      "<class 'pandas.core.frame.DataFrame'>\n",
      "RangeIndex: 51525 entries, 0 to 51524\n",
      "Data columns (total 13 columns):\n",
      " #   Column        Non-Null Count  Dtype  \n",
      "---  ------        --------------  -----  \n",
      " 0   price         51525 non-null  int64  \n",
      " 1   model_year    51525 non-null  float64\n",
      " 2   model         51525 non-null  object \n",
      " 3   condition     51525 non-null  object \n",
      " 4   cylinders     51525 non-null  float64\n",
      " 5   fuel          51525 non-null  object \n",
      " 6   odometer      43633 non-null  float64\n",
      " 7   transmission  51525 non-null  object \n",
      " 8   type          51525 non-null  object \n",
      " 9   paint_color   42258 non-null  object \n",
      " 10  is_4wd        25572 non-null  float64\n",
      " 11  date_posted   51525 non-null  object \n",
      " 12  days_listed   51525 non-null  int64  \n",
      "dtypes: float64(4), int64(2), object(7)\n",
      "memory usage: 5.1+ MB\n"
     ]
    }
   ],
   "source": [
    "# Fill in missing values: 'model_year' and 'cylinders'\n",
    "grouped_by_model = data.groupby('model').agg({'model_year': 'median', 'cylinders': 'median'})\n",
    "for model in data['model'].unique():\n",
    "    data.loc[(data['model'] == model) & (data['model_year'].isna()), 'model_year'] = \\\n",
    "        grouped_by_model.loc[grouped_by_model.index == model, 'model_year'][0]\n",
    "    data.loc[(data['model'] == model) & (data['cylinders'].isna()), 'cylinders'] = \\\n",
    "        grouped_by_model.loc[grouped_by_model.index == model, 'cylinders'][0]\n",
    "\n",
    "data.isna().sum()\n",
    "data.info()"
   ]
  },
  {
   "cell_type": "code",
   "execution_count": 4,
   "id": "cdf7fb0f",
   "metadata": {},
   "outputs": [
    {
     "data": {
      "text/plain": [
       "price               0\n",
       "model_year          0\n",
       "model               0\n",
       "condition           0\n",
       "cylinders           0\n",
       "fuel                0\n",
       "odometer         7892\n",
       "transmission        0\n",
       "type                0\n",
       "paint_color      9267\n",
       "is_4wd          25953\n",
       "date_posted         0\n",
       "days_listed         0\n",
       "dtype: int64"
      ]
     },
     "execution_count": 4,
     "metadata": {},
     "output_type": "execute_result"
    }
   ],
   "source": [
    "# Fill in missing values: 'cylinder' to median of cylinder by model year\n",
    "data['cylinders'] = data['cylinders'].fillna(data.groupby('model').agg({'cylinders':'median'}).to_dict)\n",
    "\n",
    "# Check that cylinders show 0 missing values\n",
    "data.isna().sum()\n"
   ]
  },
  {
   "cell_type": "code",
   "execution_count": 5,
   "id": "a9972d9a",
   "metadata": {},
   "outputs": [
    {
     "data": {
      "text/plain": [
       "price              0\n",
       "model_year         0\n",
       "model              0\n",
       "condition          0\n",
       "cylinders          0\n",
       "fuel               0\n",
       "odometer        7892\n",
       "transmission       0\n",
       "type               0\n",
       "paint_color     9267\n",
       "is_4wd             0\n",
       "date_posted        0\n",
       "days_listed        0\n",
       "dtype: int64"
      ]
     },
     "execution_count": 5,
     "metadata": {},
     "output_type": "execute_result"
    }
   ],
   "source": [
    "# Missing Values 'is_4wd'\n",
    "data['is_4wd'] = data['is_4wd'].fillna(0)\n",
    "data['is_4wd'] = data['is_4wd'].astype(bool)\n",
    "\n",
    "# Check that is_4wd shows 0 missing values\n",
    "data.isna().sum()"
   ]
  },
  {
   "cell_type": "code",
   "execution_count": 6,
   "id": "2bd56561",
   "metadata": {},
   "outputs": [],
   "source": [
    "# Missing Values: paint_color to 'unknown'\n",
    "data['paint_color'] = data['paint_color'].fillna('unknown')"
   ]
  },
  {
   "cell_type": "code",
   "execution_count": 7,
   "id": "00af98a7",
   "metadata": {},
   "outputs": [
    {
     "data": {
      "text/plain": [
       "price           0\n",
       "model_year      0\n",
       "model           0\n",
       "condition       0\n",
       "cylinders       0\n",
       "fuel            0\n",
       "odometer        0\n",
       "transmission    0\n",
       "type            0\n",
       "paint_color     0\n",
       "is_4wd          0\n",
       "date_posted     0\n",
       "days_listed     0\n",
       "dtype: int64"
      ]
     },
     "execution_count": 7,
     "metadata": {},
     "output_type": "execute_result"
    }
   ],
   "source": [
    "# Missing Values: convert odometer to mean by model_year and paint color to 'unknown'\n",
    "grouped_by_condition = data.groupby('condition').agg({'odometer': 'mean'})\n",
    "for condition in data['condition'].unique():\n",
    "    data.loc[(data['condition'] == condition) & (data['odometer'].isna()), 'odometer'] = \\\n",
    "        grouped_by_condition.loc[grouped_by_condition.index == condition, 'odometer'][0]\n",
    "    \n",
    "# Check that odometer shows 0 missing values\n",
    "data.isna().sum()"
   ]
  },
  {
   "cell_type": "code",
   "execution_count": 8,
   "id": "b635c8cc",
   "metadata": {},
   "outputs": [],
   "source": [
    "# Format Change: convert date_posted to date_time\n",
    "data['date_posted'] = pd.to_datetime(data['date_posted'], format = '%Y-%m-%d')\n"
   ]
  },
  {
   "cell_type": "code",
   "execution_count": 9,
   "id": "a834bcb3",
   "metadata": {},
   "outputs": [],
   "source": [
    "# Remove Duplicates:\n",
    "data = data.drop_duplicates(subset = None, keep = 'first')"
   ]
  },
  {
   "cell_type": "code",
   "execution_count": 10,
   "id": "dc9e7698",
   "metadata": {},
   "outputs": [
    {
     "name": "stdout",
     "output_type": "stream",
     "text": [
      "<class 'pandas.core.frame.DataFrame'>\n",
      "Int64Index: 51525 entries, 0 to 51524\n",
      "Data columns (total 13 columns):\n",
      " #   Column        Non-Null Count  Dtype         \n",
      "---  ------        --------------  -----         \n",
      " 0   price         51525 non-null  int64         \n",
      " 1   model_year    51525 non-null  float64       \n",
      " 2   model         51525 non-null  object        \n",
      " 3   condition     51525 non-null  object        \n",
      " 4   cylinders     51525 non-null  float64       \n",
      " 5   fuel          51525 non-null  object        \n",
      " 6   odometer      51525 non-null  float64       \n",
      " 7   transmission  51525 non-null  object        \n",
      " 8   type          51525 non-null  object        \n",
      " 9   paint_color   51525 non-null  object        \n",
      " 10  is_4wd        51525 non-null  bool          \n",
      " 11  date_posted   51525 non-null  datetime64[ns]\n",
      " 12  days_listed   51525 non-null  int64         \n",
      "dtypes: bool(1), datetime64[ns](1), float64(3), int64(2), object(6)\n",
      "memory usage: 5.2+ MB\n"
     ]
    }
   ],
   "source": [
    "data.info()"
   ]
  },
  {
   "cell_type": "code",
   "execution_count": 11,
   "id": "72a3d998",
   "metadata": {},
   "outputs": [],
   "source": [
    "data['odometer'] = pd.to_numeric(data['odometer'])"
   ]
  },
  {
   "cell_type": "code",
   "execution_count": 12,
   "id": "10fb3a5c",
   "metadata": {},
   "outputs": [
    {
     "name": "stderr",
     "output_type": "stream",
     "text": [
      "2022-12-23 09:47:54.634 \n",
      "  \u001b[33m\u001b[1mWarning:\u001b[0m to view this Streamlit app on a browser, run it with the following\n",
      "  command:\n",
      "\n",
      "    streamlit run C:\\Users\\teres\\anaconda3\\lib\\site-packages\\ipykernel_launcher.py [ARGUMENTS]\n"
     ]
    },
    {
     "data": {
      "text/plain": [
       "DeltaGenerator(_root_container=0, _provided_cursor=None, _parent=None, _block_type=None, _form_data=None)"
      ]
     },
     "execution_count": 12,
     "metadata": {},
     "output_type": "execute_result"
    }
   ],
   "source": [
    "# creating title for page\n",
    "\n",
    "st.header(\"Model Comparison and Pricing Analysis\")"
   ]
  },
  {
   "cell_type": "code",
   "execution_count": 13,
   "id": "4ae64e5d",
   "metadata": {},
   "outputs": [
    {
     "data": {
      "text/plain": [
       "DeltaGenerator(_root_container=0, _provided_cursor=None, _parent=None, _block_type=None, _form_data=None)"
      ]
     },
     "execution_count": 13,
     "metadata": {},
     "output_type": "execute_result"
    }
   ],
   "source": [
    "# create histogram using plotly-express to compare 2 models for is_4wd\n",
    "fig1 = px.histogram(data, x = 'is_4wd', color='model')\n",
    "fig1.update_layout(\n",
    "title = '<b>Count -- {}</b>'.format('Has 4 Wheel Drive'))\n",
    "\n",
    "# embedding into streamlit\n",
    "st.plotly_chart(fig1)"
   ]
  },
  {
   "cell_type": "code",
   "execution_count": 14,
   "id": "9b2d682b",
   "metadata": {},
   "outputs": [
    {
     "data": {
      "text/plain": [
       "DeltaGenerator(_root_container=0, _provided_cursor=None, _parent=None, _block_type=None, _form_data=None)"
      ]
     },
     "execution_count": 14,
     "metadata": {},
     "output_type": "execute_result"
    }
   ],
   "source": [
    "# create histogram using plotly-express to compare 2 models for color\n",
    "fig2 = px.histogram(data, x = 'paint_color', color='model')\n",
    "fig2.update_layout(\n",
    "title = '<b>Count -- {}</b>'.format('Paint Color'))\n",
    "\n",
    "# embedding into streamlit\n",
    "st.plotly_chart(fig2)"
   ]
  },
  {
   "cell_type": "code",
   "execution_count": 15,
   "id": "60cc28c0",
   "metadata": {},
   "outputs": [
    {
     "data": {
      "text/plain": [
       "DeltaGenerator(_root_container=0, _provided_cursor=None, _parent=None, _block_type=None, _form_data=None)"
      ]
     },
     "execution_count": 15,
     "metadata": {},
     "output_type": "execute_result"
    }
   ],
   "source": [
    "# create histogram using plotly-express to compare 2 models for condition\n",
    "fig3 = px.histogram(data, x = 'condition', color='model')\n",
    "fig3.update_layout(\n",
    "title = '<b>Count -- {}</b>'.format('Condition'))\n",
    "\n",
    "# embedding into streamlit\n",
    "st.plotly_chart(fig3)"
   ]
  },
  {
   "cell_type": "code",
   "execution_count": 16,
   "id": "9d02506f",
   "metadata": {},
   "outputs": [
    {
     "data": {
      "text/plain": [
       "DeltaGenerator(_root_container=0, _provided_cursor=None, _parent=None, _block_type=None, _form_data=None)"
      ]
     },
     "execution_count": 16,
     "metadata": {},
     "output_type": "execute_result"
    }
   ],
   "source": [
    "# create distribution for scatterplot\n",
    "list_for_scatter = ['model', 'condition', 'odometer']\n",
    "choice_for_scatter = st.selectbox('Choose Factors: ',list_for_scatter)\n",
    "\n",
    "# create scatterplot using plotly-express\n",
    "fig4 = px.scatter(data,x = choice_for_scatter, y = 'price')\n",
    "fig4.update_layout(\n",
    "title = '<b>Price based on {}</b>'.format(choice_for_scatter))\n",
    "st.plotly_chart(fig4)"
   ]
  }
 ],
 "metadata": {
  "kernelspec": {
   "display_name": "Python 3 (ipykernel)",
   "language": "python",
   "name": "python3"
  },
  "language_info": {
   "codemirror_mode": {
    "name": "ipython",
    "version": 3
   },
   "file_extension": ".py",
   "mimetype": "text/x-python",
   "name": "python",
   "nbconvert_exporter": "python",
   "pygments_lexer": "ipython3",
   "version": "3.9.12"
  }
 },
 "nbformat": 4,
 "nbformat_minor": 5
}
